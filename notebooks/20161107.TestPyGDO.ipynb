{
 "cells": [
  {
   "cell_type": "markdown",
   "metadata": {},
   "source": [
    "# Try out how to implement GDO in Python\n",
    "\n",
    "As a conclusion, Python's RDD interface is way more earier to use than Scala's RDD interface. Therefore there is no need to even implemt the GDO, the Python RDD interface is convience enought."
   ]
  },
  {
   "cell_type": "code",
   "execution_count": 1,
   "metadata": {
    "collapsed": true
   },
   "outputs": [],
   "source": [
    "a=app.createDF(\"id:String;dt:Integer\", \"\"\"\n",
    "    1,1;\n",
    "    1,2;\n",
    "    1,5;\n",
    "    1,8\"\"\")"
   ]
  },
  {
   "cell_type": "markdown",
   "metadata": {},
   "source": [
    "### The old fasion way\n",
    "Refer column as index of Row"
   ]
  },
  {
   "cell_type": "code",
   "execution_count": 7,
   "metadata": {
    "collapsed": false
   },
   "outputs": [],
   "source": [
    "r=a.rdd.groupBy(lambda r: r[0]).collect()"
   ]
  },
  {
   "cell_type": "markdown",
   "metadata": {},
   "source": [
    "Row can be converted to Python dictionary by `asDict()`"
   ]
  },
  {
   "cell_type": "code",
   "execution_count": 22,
   "metadata": {
    "collapsed": false
   },
   "outputs": [
    {
     "name": "stdout",
     "output_type": "stream",
     "text": [
      "[(u'1', 1), (u'1', 2), (u'1', 5), (u'1', 8)]\n"
     ]
    }
   ],
   "source": [
    "for i in r: print [ (x.asDict()['id'], x.asDict()['dt']) for x in i[1] ]"
   ]
  },
  {
   "cell_type": "markdown",
   "metadata": {},
   "source": [
    "### The `DataSet` way\n",
    "Refer columns using the dot on Row"
   ]
  },
  {
   "cell_type": "code",
   "execution_count": 23,
   "metadata": {
    "collapsed": false
   },
   "outputs": [
    {
     "name": "stdout",
     "output_type": "stream",
     "text": [
      "[u'1', u'1', u'1', u'1']\n"
     ]
    }
   ],
   "source": [
    "for i in r: print [ x.id for x in i[1] ]"
   ]
  },
  {
   "cell_type": "code",
   "execution_count": 55,
   "metadata": {
    "collapsed": false
   },
   "outputs": [],
   "source": [
    "r2=a.rdd.groupBy(lambda r: r.id).map(lambda (k, v): [x.id for x in v]).collect()"
   ]
  },
  {
   "cell_type": "code",
   "execution_count": 56,
   "metadata": {
    "collapsed": false
   },
   "outputs": [
    {
     "data": {
      "text/plain": [
       "[[u'1', u'1', u'1', u'1']]"
      ]
     },
     "execution_count": 56,
     "metadata": {},
     "output_type": "execute_result"
    }
   ],
   "source": [
    "r2"
   ]
  },
  {
   "cell_type": "markdown",
   "metadata": {},
   "source": [
    "Create a simple function which maintain a state and output with the state column"
   ]
  },
  {
   "cell_type": "code",
   "execution_count": 57,
   "metadata": {
    "collapsed": true
   },
   "outputs": [],
   "source": [
    "from pyspark.sql import Row\n",
    "def addCnts(v):\n",
    "    res = []\n",
    "    cnt = 0\n",
    "    for r in v:\n",
    "        newr=r.asDict()\n",
    "        newr['cnt'] = cnt\n",
    "        res.append(Row(**newr))\n",
    "        cnt += 1\n",
    "    return res"
   ]
  },
  {
   "cell_type": "markdown",
   "metadata": {},
   "source": [
    "It is very easy to execute the RE function"
   ]
  },
  {
   "cell_type": "code",
   "execution_count": 61,
   "metadata": {
    "collapsed": true
   },
   "outputs": [],
   "source": [
    "r3=a.rdd.groupBy(lambda r: r.id).flatMap(lambda (k, v): addCnts(v)).toDF()"
   ]
  },
  {
   "cell_type": "code",
   "execution_count": 62,
   "metadata": {
    "collapsed": false
   },
   "outputs": [
    {
     "data": {
      "text/plain": [
       "[Row(cnt=0, dt=1, id=u'1'),\n",
       " Row(cnt=1, dt=2, id=u'1'),\n",
       " Row(cnt=2, dt=5, id=u'1'),\n",
       " Row(cnt=3, dt=8, id=u'1')]"
      ]
     },
     "execution_count": 62,
     "metadata": {},
     "output_type": "execute_result"
    }
   ],
   "source": [
    "r3.collect()"
   ]
  }
 ],
 "metadata": {
  "kernelspec": {
   "display_name": "Python 2",
   "language": "python",
   "name": "python2"
  },
  "language_info": {
   "codemirror_mode": {
    "name": "ipython",
    "version": 2
   },
   "file_extension": ".py",
   "mimetype": "text/x-python",
   "name": "python",
   "nbconvert_exporter": "python",
   "pygments_lexer": "ipython2",
   "version": "2.7.10"
  }
 },
 "nbformat": 4,
 "nbformat_minor": 1
}
